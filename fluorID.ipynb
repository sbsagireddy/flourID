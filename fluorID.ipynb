{
  "cells": [
    {
      "attachments": {},
      "cell_type": "markdown",
      "metadata": {
        "id": "UCnSCz9wkUrY"
      },
      "source": [
        "## Install necessary packages"
      ]
    },
    {
      "cell_type": "code",
      "execution_count": null,
      "metadata": {
        "id": "imZ5ea2gngLU"
      },
      "outputs": [],
      "source": [
        "%pip install git+https://github.com/bp-kelley/descriptastorus"
      ]
    },
    {
      "cell_type": "code",
      "execution_count": null,
      "metadata": {
        "id": "DlJYMi2SR2y_"
      },
      "outputs": [],
      "source": [
        "%pip install rdkit-pypi chemfunc SyntheMol"
      ]
    },
    {
      "cell_type": "code",
      "execution_count": null,
      "metadata": {
        "id": "dOJwZGQQDY6Z"
      },
      "outputs": [],
      "source": [
        "import pandas as pd\n",
        "from rdkit import Chem"
      ]
    },
    {
      "attachments": {},
      "cell_type": "markdown",
      "metadata": {
        "id": "cnYJ2NMUKGDY"
      },
      "source": [
        "## Training models"
      ]
    },
    {
      "cell_type": "code",
      "execution_count": null,
      "metadata": {
        "id": "cj3c8yqUKS7M"
      },
      "outputs": [],
      "source": [
        "# Chemprop classification\n",
        "!python -m SyntheMol.models.train --data_path data/binarized_chemprop_dataset.csv --save_dir models/chemprop --model_type chemprop --dataset_type classification --property_column fluor --num_models 5"
      ]
    },
    {
      "cell_type": "code",
      "execution_count": null,
      "metadata": {
        "id": "Vh9IcP2fKVWi"
      },
      "outputs": [],
      "source": [
        "# Chemprop + RDKit classification\n",
        "!python -m SyntheMol.models.train --data_path data/binarized_chemprop_dataset.csv --save_dir models/chemprop_rdkit --model_type chemprop --dataset_type classification --fingerprint_type rdkit --property_column fluor --num_models 5"
      ]
    },
    {
      "cell_type": "code",
      "execution_count": null,
      "metadata": {
        "id": "D9cmuB-RKXxM"
      },
      "outputs": [],
      "source": [
        "# Chemprop + Morgan fingerprint classification\n",
        "!python -m SyntheMol.models.train --data_path data/binarized_chemprop_dataset.csv --save_dir models/chemprop_morgan --model_type chemprop --dataset_type classification --fingerprint_type morgan --property_column fluor --num_models 5"
      ]
    },
    {
      "cell_type": "code",
      "execution_count": null,
      "metadata": {
        "id": "g-ZnkoigKbXz"
      },
      "outputs": [],
      "source": [
        "# Random forest classification\n",
        "!python -m SyntheMol.models.train --data_path data/binarized_chemprop_dataset.csv --save_dir models/random_forest --model_type random_forest --dataset_type classification --fingerprint_type morgan --property_column fluor --num_models 5"
      ]
    },
    {
      "attachments": {},
      "cell_type": "markdown",
      "metadata": {
        "id": "wCH51ixZLU16"
      },
      "source": [
        "## Precompute building block scores"
      ]
    },
    {
      "cell_type": "code",
      "execution_count": null,
      "metadata": {
        "id": "sdF1GNqwiYH-"
      },
      "outputs": [],
      "source": [
        "# Chemprop\n",
        "!python -m SyntheMol.models.predict --data_path files/building_blocks.csv --preds_path models/chemprop/building_block_scores.csv --model_path models/chemprop --model_type chemprop --average_preds\n",
        "\n",
        "# Rename predictions column to \"score\" to use with Synthemol.generate\n",
        "building_blocks_df = pd.read_csv(\"models/chemprop/building_blocks.csv\")\n",
        "\n",
        "building_blocks_modified_df = building_blocks_df.copy()\n",
        "building_blocks_modified_df = building_blocks_modified_df.rename(columns={\"chemprop_ensemble_preds\": \"score\"})\n",
        "building_blocks_modified_df.to_csv(\"models/chemprop/building_blocks.csv\", index=False)"
      ]
    },
    {
      "cell_type": "code",
      "execution_count": null,
      "metadata": {
        "id": "DXrkZJChiYfT"
      },
      "outputs": [],
      "source": [
        "# Chemprop + RDKit\n",
        "!python -m SyntheMol.models.predict --data_path files/building_blocks.csv --preds_path models/chemprop_rdkit/building_block_scores.csv --model_path models/chemprop_rdkit --model_type chemprop --average_preds --fingerprint_type rdkit\n",
        "\n",
        "# Rename predictions column to \"score\" to use with Synthemol.generate\n",
        "building_blocks_df = pd.read_csv(\"models/chemprop_rdkit/building_blocks.csv\")\n",
        "\n",
        "building_blocks_modified_df = building_blocks_df.copy()\n",
        "building_blocks_modified_df = building_blocks_modified_df.rename(columns={\"chemprop_rdkit_ensemble_preds\": \"score\"})\n",
        "building_blocks_modified_df.to_csv(\"models/chemprop_rdkit/building_blocks.csv\", index=False)"
      ]
    },
    {
      "cell_type": "code",
      "execution_count": null,
      "metadata": {
        "id": "YEqXDSmvimrl"
      },
      "outputs": [],
      "source": [
        "# Chemprop + Morgan fingerprint\n",
        "!python -m SyntheMol.models.predict --data_path files/building_blocks.csv --preds_path models/chemprop_morgan/building_block_scores.csv --model_path models/chemprop_morgan --model_type chemprop --average_preds --fingerprint_type morgan\n",
        "\n",
        "# Rename predictions column to \"score\" to use with Synthemol.generate\n",
        "building_blocks_df = pd.read_csv(\"models/chemprop_morgan/building_blocks.csv\")\n",
        "\n",
        "building_blocks_modified_df = building_blocks_df.copy()\n",
        "building_blocks_modified_df = building_blocks_modified_df.rename(columns={\"chemprop_morgan_ensemble_preds\": \"score\"})\n",
        "building_blocks_modified_df.to_csv(\"models/chemprop_morgan/building_blocks.csv\", index=False)"
      ]
    },
    {
      "cell_type": "code",
      "execution_count": null,
      "metadata": {
        "id": "HU6ZyVKmjCix"
      },
      "outputs": [],
      "source": [
        "# Random forest\n",
        "!python -m SyntheMol.models.predict --data_path files/building_blocks.csv --preds_path models/random_forest/building_block_scores.csv --model_path models/random_forest --model_type random_forest --average_preds --fingerprint_type morgan\n",
        "\n",
        "# Rename predictions column to \"score\" to use with Synthemol.generate\n",
        "building_blocks_df = pd.read_csv(\"models/random_forest/building_blocks.csv\")\n",
        "\n",
        "building_blocks_modified_df = building_blocks_df.copy()\n",
        "building_blocks_modified_df = building_blocks_modified_df.rename(columns={\"random_forest_morgan_ensemble_preds\": \"score\"})\n",
        "building_blocks_modified_df.to_csv(\"models/random_forest/building_blocks.csv\", index=False)"
      ]
    },
    {
      "attachments": {},
      "cell_type": "markdown",
      "metadata": {
        "id": "2sFZ4dNULatO"
      },
      "source": [
        "## Generate molecules"
      ]
    },
    {
      "cell_type": "code",
      "execution_count": null,
      "metadata": {
        "id": "HbzF3jGdjpKi"
      },
      "outputs": [],
      "source": [
        "# Chemprop\n",
        "!python -m SyntheMol.generate --model_path models/chemprop --model_type chemprop --building_blocks_path models/chemprop/building_blocks.csv --save_dir models/chemprop/generate_chemprop --reaction_to_building_blocks_path files/reaction_to_building_blocks.pkl --max_reactions 1 --n_rollout 20000"
      ]
    },
    {
      "cell_type": "code",
      "execution_count": null,
      "metadata": {
        "id": "Ni716imzLcys"
      },
      "outputs": [],
      "source": [
        "# Chemprop + RDKit\n",
        "!python -m SyntheMol.generate --model_path models/chemprop_rdkit --model_type chemprop --fingerprint_type rdkit --building_blocks_path models/chemprop_rdkit/building_blocks.csv --save_dir models/chemprop_rdkit/generate_chemprop_rdkit --reaction_to_building_blocks_path files/reaction_to_building_blocks.pkl --max_reactions 1 --n_rollout 20000"
      ]
    },
    {
      "cell_type": "code",
      "execution_count": null,
      "metadata": {
        "id": "_RgzkldAjz7S"
      },
      "outputs": [],
      "source": [
        "# Chemprop + Morgan fingerprint\n",
        "!python -m SyntheMol.generate --model_path models/chemprop_morgan --model_type chemprop --fingerprint_type morgan --building_blocks_path models/chemprop_morgan/building_blocks.csv --save_dir models/chemprop_morgan/generate_chemprop_morgan --reaction_to_building_blocks_path files/reaction_to_building_blocks.pkl --max_reactions 1 --n_rollout 20000"
      ]
    },
    {
      "cell_type": "code",
      "execution_count": null,
      "metadata": {
        "id": "AHeuOYk9kj7t"
      },
      "outputs": [],
      "source": [
        "# Random forest\n",
        "!python -m SyntheMol.generate --model_path models/random_forest --model_type random_forest --fingerprint_type morgan --building_blocks_path models/random_forest_morgan/building_blocks.csv --save_dir models/random_forest/generate_random_forest --reaction_to_building_blocks_path files/reaction_to_building_blocks.pkl --max_reactions 1 --n_rollout 20000"
      ]
    },
    {
      "attachments": {},
      "cell_type": "markdown",
      "metadata": {
        "id": "ulfROLApLf3R"
      },
      "source": [
        "## Filter molecules"
      ]
    },
    {
      "cell_type": "code",
      "execution_count": null,
      "metadata": {
        "id": "xcOZoo7hnJng"
      },
      "outputs": [],
      "source": [
        "# Filter Chemprop molecules based on level of conjugation\n",
        "df = pd.read_csv(\"generate_chemprop/molecules.csv\")\n",
        "mols = [Chem.MolFromSmiles(x) for x in df[\"smiles\"].values]\n",
        "\n",
        "indices = []\n",
        "aromatic_dyes = []\n",
        "for index, genmol in enumerate(mols):\n",
        "    if len(genmol.GetAromaticAtoms()) >= 24:\n",
        "        indices.append(index)\n",
        "        aromatic_dyes.append(genmol)\n",
        "\n",
        "chemprop_molecules_select_df = df.loc[indices, :]\n",
        "chemprop_molecules_select_df[\"model\"] = \"chemprop\""
      ]
    },
    {
      "cell_type": "code",
      "execution_count": null,
      "metadata": {
        "id": "tBCgUkYEo467"
      },
      "outputs": [],
      "source": [
        "# Filter Chemprop + RDKit molecules based on level of conjugation\n",
        "df = pd.read_csv(\"generate_chemprop_rdkit/molecules.csv\")\n",
        "mols = [Chem.MolFromSmiles(x) for x in df[\"smiles\"].values]\n",
        "\n",
        "indices = []\n",
        "aromatic_dyes = []\n",
        "for index, genmol in enumerate(mols):\n",
        "    if len(genmol.GetAromaticAtoms()) >= 24:\n",
        "        indices.append(index)\n",
        "        aromatic_dyes.append(genmol)\n",
        "\n",
        "chemprop_rdkit_molecules_select_df = df.loc[indices, :]\n",
        "chemprop_rdkit_molecules_select_df[\"model\"] = \"chemprop_rdkit\""
      ]
    },
    {
      "cell_type": "code",
      "execution_count": null,
      "metadata": {
        "id": "n_7rRIRBo9Zp"
      },
      "outputs": [],
      "source": [
        "# Filter Chemprop + Morgan molecules based on level of conjugation\n",
        "df = pd.read_csv(\"generate_chemprop_morgan/molecules.csv\")\n",
        "mols = [Chem.MolFromSmiles(x) for x in df[\"smiles\"].values]\n",
        "\n",
        "indices = []\n",
        "aromatic_dyes = []\n",
        "for index, genmol in enumerate(mols):\n",
        "    if len(genmol.GetAromaticAtoms()) >= 24:\n",
        "        indices.append(index)\n",
        "        aromatic_dyes.append(genmol)\n",
        "\n",
        "chemprop_morgan_molecules_select_df = df.loc[indices, :]\n",
        "chemprop_morgan_molecules_select_df[\"model\"] = \"chemprop_morgan\""
      ]
    },
    {
      "cell_type": "code",
      "execution_count": null,
      "metadata": {
        "id": "MfZEQmihpG1X"
      },
      "outputs": [],
      "source": [
        "# Filter Random forest molecules based on level of conjugation\n",
        "df = pd.read_csv(\"generate_random_forest/molecules.csv\")\n",
        "mols = [Chem.MolFromSmiles(x) for x in df[\"smiles\"].values]\n",
        "\n",
        "indices = []\n",
        "aromatic_dyes = []\n",
        "for index, genmol in enumerate(mols):\n",
        "    if len(genmol.GetAromaticAtoms()) >= 24:\n",
        "        indices.append(index)\n",
        "        aromatic_dyes.append(genmol)\n",
        "\n",
        "random_forest_molecules_select_df = df.loc[indices, :]\n",
        "random_forest_molecules_select_df[\"model\"] = \"random_forest\""
      ]
    },
    {
      "cell_type": "code",
      "execution_count": null,
      "metadata": {
        "id": "OOPDPEl_pRnv"
      },
      "outputs": [],
      "source": [
        "# Save conjugated molecules\n",
        "df_conjugated_mols = pd.concat(\n",
        "    [\n",
        "        chemprop_molecules_select_df,\n",
        "        chemprop_rdkit_molecules_select_df,\n",
        "        chemprop_morgan_molecules_select_df,\n",
        "        random_forest_molecules_select_df,\n",
        "    ],\n",
        "    ignore_index=True,\n",
        ")\n",
        "df_conjugated_mols.to_csv(\"data/conjugated_molecules.csv\", index=False)"
      ]
    },
    {
      "cell_type": "code",
      "execution_count": null,
      "metadata": {
        "id": "7CY0Z5iMmC8f"
      },
      "outputs": [],
      "source": [
        "# Train solubility model\n",
        "!python -m SyntheMol.models.train --data_path data/binarized_aq_sol_data.csv --save_dir models/sol_chemprop_rdkit --model_type chemprop --dataset_type classification --fingerprint_type rdkit --property_column sol --num_models 5"
      ]
    },
    {
      "cell_type": "code",
      "execution_count": null,
      "metadata": {
        "id": "SQPD12pJmEAA"
      },
      "outputs": [],
      "source": [
        "# Score molecules based on solubility\n",
        "!python -m SyntheMol.models.predict --data_path data/conjugated_molecules.csv --model_path models/sol_chemprop_rdkit --model_type chemprop --average_preds --fingerprint_type rdkit\n",
        "\n",
        "df = pd.read_csv(\"data/conjugated_molecules.csv\")\n",
        "\n",
        "modified_df = df.copy()\n",
        "modified_df = modified_df.rename(columns={\"chemprop_rdkit_ensemble_preds\": \"sol_score\"})\n",
        "\n",
        "modified_df.to_csv(\"data/conjugated_molecules.csv\", index=False)"
      ]
    }
  ],
  "metadata": {
    "accelerator": "TPU",
    "colab": {
      "collapsed_sections": [
        "cnYJ2NMUKGDY",
        "wCH51ixZLU16",
        "2sFZ4dNULatO"
      ],
      "machine_shape": "hm",
      "provenance": []
    },
    "kernelspec": {
      "display_name": "Python 3",
      "name": "python3"
    },
    "language_info": {
      "name": "python"
    }
  },
  "nbformat": 4,
  "nbformat_minor": 0
}
