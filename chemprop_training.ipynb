{
  "cells": [
    {
      "cell_type": "code",
      "execution_count": 1,
      "metadata": {
        "id": "7yFH9xBltn2B"
      },
      "outputs": [],
      "source": [
        "#!pip install chemprop\n",
        "#!pip install rdkit-pypi\n",
        "#!pip install git+https://github.com/bp-kelley/descriptastorus\n",
        "\n",
        "import chemprop\n",
        "import numpy as np\n",
        "import pandas as pd\n",
        "import matplotlib.pyplot as plt\n",
        "from matplotlib.offsetbox import AnchoredText\n",
        "from sklearn.metrics import mean_absolute_error, mean_squared_error, r2_score\n",
        "from sklearn.decomposition import PCA"
      ]
    },
    {
      "cell_type": "code",
      "execution_count": 7,
      "metadata": {
        "id": "PrYuVW2fAC95"
      },
      "outputs": [],
      "source": [
        "def evaluate_regression(true: np.ndarray, preds: np.ndarray) -> dict[str, float]:\n",
        "    \"\"\"Evaluates regression predictions.\n",
        "\n",
        "    :param true: A 1D array of true values (num_molecules,).\n",
        "    :param preds: A 1D array of predicted values (num_molecules,).\n",
        "    :return: A dictionary of scores.\n",
        "    \"\"\"\n",
        "    return {\n",
        "        \"mae\": mean_absolute_error(true, preds),\n",
        "        \"r2\": r2_score(true, preds),\n",
        "    }"
      ]
    },
    {
      "cell_type": "code",
      "execution_count": 5,
      "metadata": {
        "id": "JRtFDpC30Xjp"
      },
      "outputs": [],
      "source": [
        "def plot_parity(y_true, y_pred, feature, y_pred_unc=None):\n",
        "    axmin = min(min(y_true), min(y_pred)) - 0.1 * (max(y_true) - min(y_true))\n",
        "    axmax = max(max(y_true), max(y_pred)) + 0.1 * (max(y_true) - min(y_true))\n",
        "\n",
        "    mae = mean_absolute_error(y_true, y_pred)\n",
        "    rmse = mean_squared_error(y_true, y_pred, squared=False)\n",
        "    metrics_regression = evaluate_regression(y_true, y_pred)\n",
        "\n",
        "    plt.plot([axmin, axmax], [axmin, axmax], \"--k\")\n",
        "\n",
        "    plt.errorbar(\n",
        "        y_true,\n",
        "        y_pred,\n",
        "        yerr=y_pred_unc,\n",
        "        linewidth=0,\n",
        "        marker=\"o\",\n",
        "        markeredgecolor=\"w\",\n",
        "        alpha=1,\n",
        "        elinewidth=1,\n",
        "    )\n",
        "\n",
        "    plt.xlim((axmin, axmax))\n",
        "    plt.ylim((axmin, axmax))\n",
        "\n",
        "    ax = plt.gca()\n",
        "    ax.set_aspect(\"equal\")\n",
        "\n",
        "    at = AnchoredText(\n",
        "        f\"MAE = {mae:.2f}\\nRMSE = {rmse:.2f}\\nR2 = {metrics_regression['r2']:.2f}\",\n",
        "        prop=dict(size=10),\n",
        "        frameon=True,\n",
        "        loc=\"upper left\",\n",
        "    )\n",
        "    at.patch.set_boxstyle(\"round,pad=0.,rounding_size=0.2\")\n",
        "    ax.add_artist(at)\n",
        "\n",
        "    ax.set(title=feature)\n",
        "\n",
        "    plt.xlabel(\"True\")\n",
        "    plt.ylabel(\"Chemprop Predicted\")\n",
        "\n",
        "    plt.show()\n",
        "\n",
        "    return"
      ]
    },
    {
      "attachments": {},
      "cell_type": "markdown",
      "metadata": {},
      "source": [
        "# Training"
      ]
    },
    {
      "cell_type": "code",
      "execution_count": null,
      "metadata": {
        "id": "hN6JHUVGAz9s"
      },
      "outputs": [],
      "source": [
        "arguments = [\n",
        "    \"--data_path\", \"data/filtered_chemprop_flourescence_data.csv\",\n",
        "    \"--dataset_type\", \"regression\",\n",
        "    \"--save_dir\", \"models/test_checkpoints-reg\",\n",
        "    \"--epochs\", \"30\",\n",
        "    \"--features_path\", \"data/filtered/chemprop_solvent_features.csv\",\n",
        "    #    \"--features_generator\", \"rdkit_2d_normalized\",\n",
        "    #    \"--no_features_scaling\",\n",
        "    \"--save_smiles_splits\",\n",
        "]\n",
        "\n",
        "args = chemprop.args.TrainArgs().parse_args(arguments)\n",
        "mean_score, std_score = chemprop.train.cross_validate(\n",
        "    args=args, train_func=chemprop.train.run_training\n",
        ")"
      ]
    },
    {
      "attachments": {},
      "cell_type": "markdown",
      "metadata": {
        "id": "Nec_kF07A4I-"
      },
      "source": [
        "## Testing"
      ]
    },
    {
      "cell_type": "code",
      "execution_count": null,
      "metadata": {},
      "outputs": [],
      "source": [
        "arguments = [\n",
        "    \"--test_path\", \"models/test_checkpoints-reg/fold_0/test_smiles.csv\",\n",
        "    \"--preds_path\", \"models/test_preds_reg.csv\",\n",
        "    \"--features_path\", \"models/test_checkpoints-reg/fold_0/test_features.csv\"\n",
        "    #    \"--features_generator\", \"rdkit_2d_normalized\",\n",
        "    #    \"--no_features_scaling\",\n",
        "]\n",
        "\n",
        "args = chemprop.args.PredictArgs().parse_args(arguments)\n",
        "preds = chemprop.train.make_predictions(args=args)"
      ]
    },
    {
      "cell_type": "code",
      "execution_count": null,
      "metadata": {
        "colab": {
          "base_uri": "https://localhost:8080/",
          "height": 424
        },
        "id": "4W3_3w30A6ZB",
        "outputId": "147278a2-32ba-42ec-ab41-685ed3ae5919"
      },
      "outputs": [
        {
          "data": {
            "text/html": [
              "\n",
              "  <div id=\"df-43aae895-23b3-49a5-91fe-a1fef1b839a6\">\n",
              "    <div class=\"colab-df-container\">\n",
              "      <div>\n",
              "<style scoped>\n",
              "    .dataframe tbody tr th:only-of-type {\n",
              "        vertical-align: middle;\n",
              "    }\n",
              "\n",
              "    .dataframe tbody tr th {\n",
              "        vertical-align: top;\n",
              "    }\n",
              "\n",
              "    .dataframe thead th {\n",
              "        text-align: right;\n",
              "    }\n",
              "</style>\n",
              "<table border=\"1\" class=\"dataframe\">\n",
              "  <thead>\n",
              "    <tr style=\"text-align: right;\">\n",
              "      <th></th>\n",
              "      <th>SMILES</th>\n",
              "      <th>Absorption/nm</th>\n",
              "      <th>Emission/nm</th>\n",
              "      <th>PLQY</th>\n",
              "      <th>absorption_preds</th>\n",
              "      <th>emission_preds</th>\n",
              "      <th>plqy_preds</th>\n",
              "    </tr>\n",
              "  </thead>\n",
              "  <tbody>\n",
              "    <tr>\n",
              "      <th>0</th>\n",
              "      <td>OC(=O)CCCCCN1C2=C(C=C(S([O-])(=O)=O)C=C2)C(C)(...</td>\n",
              "      <td>710.0</td>\n",
              "      <td>732.0</td>\n",
              "      <td>NaN</td>\n",
              "      <td>476.112346</td>\n",
              "      <td>573.174804</td>\n",
              "      <td>0.514553</td>\n",
              "    </tr>\n",
              "    <tr>\n",
              "      <th>1</th>\n",
              "      <td>COC(C=C1)=CC=C1C(C2=NSN=C32)=CC=C3C4=NC5=C(N4C...</td>\n",
              "      <td>419.0</td>\n",
              "      <td>549.0</td>\n",
              "      <td>0.79</td>\n",
              "      <td>414.152128</td>\n",
              "      <td>540.614483</td>\n",
              "      <td>0.813902</td>\n",
              "    </tr>\n",
              "    <tr>\n",
              "      <th>2</th>\n",
              "      <td>CC1(C)C2=CC(N(C)C)=CC=C2C(C3=CC=CC=C3C([O-])=O...</td>\n",
              "      <td>612.0</td>\n",
              "      <td>642.0</td>\n",
              "      <td>0.75</td>\n",
              "      <td>566.107818</td>\n",
              "      <td>604.172861</td>\n",
              "      <td>0.495342</td>\n",
              "    </tr>\n",
              "    <tr>\n",
              "      <th>3</th>\n",
              "      <td>CC1(C)C2=C(C=CC(C=O)=C2)C3=CC=C(N4CCN(C(OC(C)(...</td>\n",
              "      <td>365.0</td>\n",
              "      <td>449.0</td>\n",
              "      <td>0.65</td>\n",
              "      <td>367.340733</td>\n",
              "      <td>457.773581</td>\n",
              "      <td>0.654192</td>\n",
              "    </tr>\n",
              "    <tr>\n",
              "      <th>4</th>\n",
              "      <td>OC(C=CC1=C2C=CC=C1)=C2C3=NN(C4=CC=CC=C4)N=C3C5...</td>\n",
              "      <td>292.0</td>\n",
              "      <td>380.0</td>\n",
              "      <td>0.06</td>\n",
              "      <td>328.131881</td>\n",
              "      <td>448.441933</td>\n",
              "      <td>0.368870</td>\n",
              "    </tr>\n",
              "    <tr>\n",
              "      <th>...</th>\n",
              "      <td>...</td>\n",
              "      <td>...</td>\n",
              "      <td>...</td>\n",
              "      <td>...</td>\n",
              "      <td>...</td>\n",
              "      <td>...</td>\n",
              "      <td>...</td>\n",
              "    </tr>\n",
              "    <tr>\n",
              "      <th>434</th>\n",
              "      <td>OC1=COC2=CC(C3=CC=C(N(C)C)C=C3)=CC=C2C1=O</td>\n",
              "      <td>357.0</td>\n",
              "      <td>393.0</td>\n",
              "      <td>0.26</td>\n",
              "      <td>349.904786</td>\n",
              "      <td>404.848657</td>\n",
              "      <td>0.341423</td>\n",
              "    </tr>\n",
              "    <tr>\n",
              "      <th>435</th>\n",
              "      <td>O=C(C1=CC=C(C2=CC(C=CC=C3)=C3S2)C4=CC=C5C(C6=C...</td>\n",
              "      <td>350.0</td>\n",
              "      <td>441.0</td>\n",
              "      <td>0.27</td>\n",
              "      <td>350.420754</td>\n",
              "      <td>414.751675</td>\n",
              "      <td>0.246933</td>\n",
              "    </tr>\n",
              "    <tr>\n",
              "      <th>436</th>\n",
              "      <td>F[B-]1(F)[N+]=2C(=Cc3n1c(cc3C)\\C=C\\c1cc(ccc1)C...</td>\n",
              "      <td>553.0</td>\n",
              "      <td>568.0</td>\n",
              "      <td>NaN</td>\n",
              "      <td>500.787398</td>\n",
              "      <td>560.898074</td>\n",
              "      <td>0.494528</td>\n",
              "    </tr>\n",
              "    <tr>\n",
              "      <th>437</th>\n",
              "      <td>CC1(C)C2=C(C=CC(C=O)=C2)C3=CC=C(N4CCCCC4)C=C31</td>\n",
              "      <td>371.0</td>\n",
              "      <td>447.0</td>\n",
              "      <td>0.64</td>\n",
              "      <td>372.862780</td>\n",
              "      <td>450.295298</td>\n",
              "      <td>0.706895</td>\n",
              "    </tr>\n",
              "    <tr>\n",
              "      <th>438</th>\n",
              "      <td>COC(C=C1)=CC=C1/C=C/C2=NC3=CC=CC=C3C=C2</td>\n",
              "      <td>NaN</td>\n",
              "      <td>402.0</td>\n",
              "      <td>NaN</td>\n",
              "      <td>351.933762</td>\n",
              "      <td>427.811211</td>\n",
              "      <td>0.459706</td>\n",
              "    </tr>\n",
              "  </tbody>\n",
              "</table>\n",
              "<p>439 rows × 7 columns</p>\n",
              "</div>\n",
              "      <button class=\"colab-df-convert\" onclick=\"convertToInteractive('df-43aae895-23b3-49a5-91fe-a1fef1b839a6')\"\n",
              "              title=\"Convert this dataframe to an interactive table.\"\n",
              "              style=\"display:none;\">\n",
              "        \n",
              "  <svg xmlns=\"http://www.w3.org/2000/svg\" height=\"24px\"viewBox=\"0 0 24 24\"\n",
              "       width=\"24px\">\n",
              "    <path d=\"M0 0h24v24H0V0z\" fill=\"none\"/>\n",
              "    <path d=\"M18.56 5.44l.94 2.06.94-2.06 2.06-.94-2.06-.94-.94-2.06-.94 2.06-2.06.94zm-11 1L8.5 8.5l.94-2.06 2.06-.94-2.06-.94L8.5 2.5l-.94 2.06-2.06.94zm10 10l.94 2.06.94-2.06 2.06-.94-2.06-.94-.94-2.06-.94 2.06-2.06.94z\"/><path d=\"M17.41 7.96l-1.37-1.37c-.4-.4-.92-.59-1.43-.59-.52 0-1.04.2-1.43.59L10.3 9.45l-7.72 7.72c-.78.78-.78 2.05 0 2.83L4 21.41c.39.39.9.59 1.41.59.51 0 1.02-.2 1.41-.59l7.78-7.78 2.81-2.81c.8-.78.8-2.07 0-2.86zM5.41 20L4 18.59l7.72-7.72 1.47 1.35L5.41 20z\"/>\n",
              "  </svg>\n",
              "      </button>\n",
              "      \n",
              "  <style>\n",
              "    .colab-df-container {\n",
              "      display:flex;\n",
              "      flex-wrap:wrap;\n",
              "      gap: 12px;\n",
              "    }\n",
              "\n",
              "    .colab-df-convert {\n",
              "      background-color: #E8F0FE;\n",
              "      border: none;\n",
              "      border-radius: 50%;\n",
              "      cursor: pointer;\n",
              "      display: none;\n",
              "      fill: #1967D2;\n",
              "      height: 32px;\n",
              "      padding: 0 0 0 0;\n",
              "      width: 32px;\n",
              "    }\n",
              "\n",
              "    .colab-df-convert:hover {\n",
              "      background-color: #E2EBFA;\n",
              "      box-shadow: 0px 1px 2px rgba(60, 64, 67, 0.3), 0px 1px 3px 1px rgba(60, 64, 67, 0.15);\n",
              "      fill: #174EA6;\n",
              "    }\n",
              "\n",
              "    [theme=dark] .colab-df-convert {\n",
              "      background-color: #3B4455;\n",
              "      fill: #D2E3FC;\n",
              "    }\n",
              "\n",
              "    [theme=dark] .colab-df-convert:hover {\n",
              "      background-color: #434B5C;\n",
              "      box-shadow: 0px 1px 3px 1px rgba(0, 0, 0, 0.15);\n",
              "      filter: drop-shadow(0px 1px 2px rgba(0, 0, 0, 0.3));\n",
              "      fill: #FFFFFF;\n",
              "    }\n",
              "  </style>\n",
              "\n",
              "      <script>\n",
              "        const buttonEl =\n",
              "          document.querySelector('#df-43aae895-23b3-49a5-91fe-a1fef1b839a6 button.colab-df-convert');\n",
              "        buttonEl.style.display =\n",
              "          google.colab.kernel.accessAllowed ? 'block' : 'none';\n",
              "\n",
              "        async function convertToInteractive(key) {\n",
              "          const element = document.querySelector('#df-43aae895-23b3-49a5-91fe-a1fef1b839a6');\n",
              "          const dataTable =\n",
              "            await google.colab.kernel.invokeFunction('convertToInteractive',\n",
              "                                                     [key], {});\n",
              "          if (!dataTable) return;\n",
              "\n",
              "          const docLinkHtml = 'Like what you see? Visit the ' +\n",
              "            '<a target=\"_blank\" href=https://colab.research.google.com/notebooks/data_table.ipynb>data table notebook</a>'\n",
              "            + ' to learn more about interactive tables.';\n",
              "          element.innerHTML = '';\n",
              "          dataTable['output_type'] = 'display_data';\n",
              "          await google.colab.output.renderOutput(dataTable, element);\n",
              "          const docLink = document.createElement('div');\n",
              "          docLink.innerHTML = docLinkHtml;\n",
              "          element.appendChild(docLink);\n",
              "        }\n",
              "      </script>\n",
              "    </div>\n",
              "  </div>\n",
              "  "
            ],
            "text/plain": [
              "                                                SMILES  Absorption/nm  \\\n",
              "0    OC(=O)CCCCCN1C2=C(C=C(S([O-])(=O)=O)C=C2)C(C)(...          710.0   \n",
              "1    COC(C=C1)=CC=C1C(C2=NSN=C32)=CC=C3C4=NC5=C(N4C...          419.0   \n",
              "2    CC1(C)C2=CC(N(C)C)=CC=C2C(C3=CC=CC=C3C([O-])=O...          612.0   \n",
              "3    CC1(C)C2=C(C=CC(C=O)=C2)C3=CC=C(N4CCN(C(OC(C)(...          365.0   \n",
              "4    OC(C=CC1=C2C=CC=C1)=C2C3=NN(C4=CC=CC=C4)N=C3C5...          292.0   \n",
              "..                                                 ...            ...   \n",
              "434          OC1=COC2=CC(C3=CC=C(N(C)C)C=C3)=CC=C2C1=O          357.0   \n",
              "435  O=C(C1=CC=C(C2=CC(C=CC=C3)=C3S2)C4=CC=C5C(C6=C...          350.0   \n",
              "436  F[B-]1(F)[N+]=2C(=Cc3n1c(cc3C)\\C=C\\c1cc(ccc1)C...          553.0   \n",
              "437     CC1(C)C2=C(C=CC(C=O)=C2)C3=CC=C(N4CCCCC4)C=C31          371.0   \n",
              "438            COC(C=C1)=CC=C1/C=C/C2=NC3=CC=CC=C3C=C2            NaN   \n",
              "\n",
              "     Emission/nm  PLQY  absorption_preds  emission_preds  plqy_preds  \n",
              "0          732.0   NaN        476.112346      573.174804    0.514553  \n",
              "1          549.0  0.79        414.152128      540.614483    0.813902  \n",
              "2          642.0  0.75        566.107818      604.172861    0.495342  \n",
              "3          449.0  0.65        367.340733      457.773581    0.654192  \n",
              "4          380.0  0.06        328.131881      448.441933    0.368870  \n",
              "..           ...   ...               ...             ...         ...  \n",
              "434        393.0  0.26        349.904786      404.848657    0.341423  \n",
              "435        441.0  0.27        350.420754      414.751675    0.246933  \n",
              "436        568.0   NaN        500.787398      560.898074    0.494528  \n",
              "437        447.0  0.64        372.862780      450.295298    0.706895  \n",
              "438        402.0   NaN        351.933762      427.811211    0.459706  \n",
              "\n",
              "[439 rows x 7 columns]"
            ]
          },
          "execution_count": 25,
          "metadata": {},
          "output_type": "execute_result"
        }
      ],
      "source": [
        "df_test = pd.read_csv(\"models/test_checkpoints-reg/fold_0/test_full.csv\")\n",
        "df_test[\"absorption_preds\"] = [x[0] for x in preds]\n",
        "df_test[\"emission_preds\"] = [x[1] for x in preds]\n",
        "df_test[\"plqy_preds\"] = [x[2] for x in preds]\n",
        "df_test"
      ]
    },
    {
      "cell_type": "code",
      "execution_count": null,
      "metadata": {},
      "outputs": [],
      "source": [
        "plot_parity(df_test[\"Absorption/nm\"], df_test.absorption_preds, feature=\"Absorption\")"
      ]
    },
    {
      "cell_type": "code",
      "execution_count": null,
      "metadata": {},
      "outputs": [],
      "source": [
        "plot_parity(df_test[\"Emission/nm\"], df_test.emission_preds, feature=\"Emission\")"
      ]
    },
    {
      "cell_type": "code",
      "execution_count": null,
      "metadata": {},
      "outputs": [],
      "source": [
        "plot_parity(df_test[\"PLQY\"], df_test.plqy_preds, feature=\"PLQY\")"
      ]
    },
    {
      "attachments": {},
      "cell_type": "markdown",
      "metadata": {},
      "source": [
        "# Test using loaded model"
      ]
    },
    {
      "cell_type": "code",
      "execution_count": 2,
      "metadata": {},
      "outputs": [
        {
          "name": "stdout",
          "output_type": "stream",
          "text": [
            "Loading training args\n",
            "Setting molecule featurization parameters to default.\n",
            "Loading data\n"
          ]
        },
        {
          "name": "stderr",
          "output_type": "stream",
          "text": [
            "214it [00:00, 93449.36it/s]\n",
            "100%|██████████| 214/214 [00:00<00:00, 73590.31it/s]\n"
          ]
        },
        {
          "name": "stdout",
          "output_type": "stream",
          "text": [
            "Validating SMILES\n",
            "Test size = 214\n"
          ]
        },
        {
          "name": "stderr",
          "output_type": "stream",
          "text": [
            "  0%|          | 0/1 [00:00<?, ?it/s]"
          ]
        },
        {
          "name": "stdout",
          "output_type": "stream",
          "text": [
            "Loading pretrained parameter \"encoder.encoder.0.cached_zero_vector\".\n",
            "Loading pretrained parameter \"encoder.encoder.0.W_i.weight\".\n",
            "Loading pretrained parameter \"encoder.encoder.0.W_h.weight\".\n",
            "Loading pretrained parameter \"encoder.encoder.0.W_o.weight\".\n",
            "Loading pretrained parameter \"encoder.encoder.0.W_o.bias\".\n",
            "Loading pretrained parameter \"ffn.1.weight\".\n",
            "Loading pretrained parameter \"ffn.1.bias\".\n",
            "Loading pretrained parameter \"ffn.4.weight\".\n",
            "Loading pretrained parameter \"ffn.4.bias\".\n"
          ]
        },
        {
          "name": "stderr",
          "output_type": "stream",
          "text": [
            "100%|██████████| 1/1 [00:35<00:00, 35.68s/it]"
          ]
        },
        {
          "name": "stdout",
          "output_type": "stream",
          "text": [
            "Saving predictions to models/plqy_r2_066/test_preds_reg.csv\n",
            "Elapsed time = 0:00:36\n"
          ]
        },
        {
          "name": "stderr",
          "output_type": "stream",
          "text": [
            "\n"
          ]
        }
      ],
      "source": [
        "arguments = [\n",
        "    \"--test_path\", \"models/plqy_r2_066/fold_0/test_smiles.csv\",\n",
        "    \"--preds_path\", \"models/plqy_r2_066/fold_0/test_preds_reg.csv\",\n",
        "    \"--checkpoint_path\", \"models/plqy_r2_066/fold_0/model_0/model.pt\",\n",
        "    \"--features_path\",\"models/plqy_r2_066/fold_0/test_features.csv\"\n",
        "#    \"--features_generator\", \"rdkit_2d_normalized\",\n",
        "#    \"--no_features_scaling\",\n",
        "]\n",
        "\n",
        "args = chemprop.args.PredictArgs().parse_args(arguments)\n",
        "preds = chemprop.train.make_predictions(args=args)"
      ]
    },
    {
      "cell_type": "code",
      "execution_count": 3,
      "metadata": {},
      "outputs": [
        {
          "data": {
            "text/html": [
              "<div>\n",
              "<style scoped>\n",
              "    .dataframe tbody tr th:only-of-type {\n",
              "        vertical-align: middle;\n",
              "    }\n",
              "\n",
              "    .dataframe tbody tr th {\n",
              "        vertical-align: top;\n",
              "    }\n",
              "\n",
              "    .dataframe thead th {\n",
              "        text-align: right;\n",
              "    }\n",
              "</style>\n",
              "<table border=\"1\" class=\"dataframe\">\n",
              "  <thead>\n",
              "    <tr style=\"text-align: right;\">\n",
              "      <th></th>\n",
              "      <th>SMILES</th>\n",
              "      <th>Absorption/nm</th>\n",
              "      <th>Emission/nm</th>\n",
              "      <th>PLQY</th>\n",
              "      <th>absorption_preds</th>\n",
              "      <th>emission_preds</th>\n",
              "      <th>plqy_preds</th>\n",
              "    </tr>\n",
              "  </thead>\n",
              "  <tbody>\n",
              "    <tr>\n",
              "      <th>0</th>\n",
              "      <td>O=C(C1=CC(Cl)=CC=C1OC/2C(C)(C)C(OC)=O)C2=C/NS(...</td>\n",
              "      <td>367.0</td>\n",
              "      <td>483.0</td>\n",
              "      <td>0.390</td>\n",
              "      <td>372.555122</td>\n",
              "      <td>498.429932</td>\n",
              "      <td>0.527843</td>\n",
              "    </tr>\n",
              "    <tr>\n",
              "      <th>1</th>\n",
              "      <td>O=CC1=CC(C=O)=C(C=C2)C3=C1C=CC4=C3C2=C(N5CCCCC...</td>\n",
              "      <td>474.0</td>\n",
              "      <td>608.0</td>\n",
              "      <td>0.130</td>\n",
              "      <td>513.559140</td>\n",
              "      <td>616.499623</td>\n",
              "      <td>0.461692</td>\n",
              "    </tr>\n",
              "    <tr>\n",
              "      <th>2</th>\n",
              "      <td>CC(C=C1)=CC=C1C(N=C(N2CCOCC2)S3)=C3C4=CC=C([N+...</td>\n",
              "      <td>465.0</td>\n",
              "      <td>581.0</td>\n",
              "      <td>0.458</td>\n",
              "      <td>460.841694</td>\n",
              "      <td>582.467353</td>\n",
              "      <td>0.464523</td>\n",
              "    </tr>\n",
              "    <tr>\n",
              "      <th>3</th>\n",
              "      <td>O=C(C1=CC=C(C2=C1C=CC3=C24)C=CC4=C(C=C3)N5CCCC...</td>\n",
              "      <td>373.0</td>\n",
              "      <td>473.0</td>\n",
              "      <td>0.990</td>\n",
              "      <td>370.715131</td>\n",
              "      <td>467.131411</td>\n",
              "      <td>1.015307</td>\n",
              "    </tr>\n",
              "    <tr>\n",
              "      <th>4</th>\n",
              "      <td>N#CC(C=C1)=CC=C1C2=NN3C(C4=CC=C(N5CCCCC5)C=C4)...</td>\n",
              "      <td>400.0</td>\n",
              "      <td>473.0</td>\n",
              "      <td>0.980</td>\n",
              "      <td>367.660194</td>\n",
              "      <td>504.216827</td>\n",
              "      <td>0.638009</td>\n",
              "    </tr>\n",
              "    <tr>\n",
              "      <th>...</th>\n",
              "      <td>...</td>\n",
              "      <td>...</td>\n",
              "      <td>...</td>\n",
              "      <td>...</td>\n",
              "      <td>...</td>\n",
              "      <td>...</td>\n",
              "      <td>...</td>\n",
              "    </tr>\n",
              "    <tr>\n",
              "      <th>209</th>\n",
              "      <td>CCN(CC)C(C=C1)=CC2=C1C(C=CC(C(CCCCCCCC)=O)=C3)...</td>\n",
              "      <td>383.0</td>\n",
              "      <td>425.0</td>\n",
              "      <td>0.830</td>\n",
              "      <td>401.025411</td>\n",
              "      <td>448.739527</td>\n",
              "      <td>0.848070</td>\n",
              "    </tr>\n",
              "    <tr>\n",
              "      <th>210</th>\n",
              "      <td>F[B-]1(F)N(C2=C(C#N)C(S3)=[N+]1C4=C3C=C(C(C)(C...</td>\n",
              "      <td>524.0</td>\n",
              "      <td>543.0</td>\n",
              "      <td>0.700</td>\n",
              "      <td>519.749516</td>\n",
              "      <td>576.572662</td>\n",
              "      <td>0.636806</td>\n",
              "    </tr>\n",
              "    <tr>\n",
              "      <th>211</th>\n",
              "      <td>O=C(/C=C/C1=CC=C(N(C)CCO)C=C1)C2=CC=C(NC(C3=C(...</td>\n",
              "      <td>431.0</td>\n",
              "      <td>563.0</td>\n",
              "      <td>0.130</td>\n",
              "      <td>427.787741</td>\n",
              "      <td>565.749504</td>\n",
              "      <td>0.135830</td>\n",
              "    </tr>\n",
              "    <tr>\n",
              "      <th>212</th>\n",
              "      <td>CC1(C)C2=C(C=CC(C=O)=C2)C3=CC=C(N4CC4C)C=C31</td>\n",
              "      <td>355.0</td>\n",
              "      <td>486.0</td>\n",
              "      <td>0.640</td>\n",
              "      <td>356.662859</td>\n",
              "      <td>521.772333</td>\n",
              "      <td>0.471861</td>\n",
              "    </tr>\n",
              "    <tr>\n",
              "      <th>213</th>\n",
              "      <td>C12=C(NC=C2)C=CC3=C1N=C(C4=CC=CC=C4)O3</td>\n",
              "      <td>320.0</td>\n",
              "      <td>427.0</td>\n",
              "      <td>0.720</td>\n",
              "      <td>327.589422</td>\n",
              "      <td>413.747833</td>\n",
              "      <td>0.648874</td>\n",
              "    </tr>\n",
              "  </tbody>\n",
              "</table>\n",
              "<p>214 rows × 7 columns</p>\n",
              "</div>"
            ],
            "text/plain": [
              "                                                SMILES  Absorption/nm   \n",
              "0    O=C(C1=CC(Cl)=CC=C1OC/2C(C)(C)C(OC)=O)C2=C/NS(...          367.0  \\\n",
              "1    O=CC1=CC(C=O)=C(C=C2)C3=C1C=CC4=C3C2=C(N5CCCCC...          474.0   \n",
              "2    CC(C=C1)=CC=C1C(N=C(N2CCOCC2)S3)=C3C4=CC=C([N+...          465.0   \n",
              "3    O=C(C1=CC=C(C2=C1C=CC3=C24)C=CC4=C(C=C3)N5CCCC...          373.0   \n",
              "4    N#CC(C=C1)=CC=C1C2=NN3C(C4=CC=C(N5CCCCC5)C=C4)...          400.0   \n",
              "..                                                 ...            ...   \n",
              "209  CCN(CC)C(C=C1)=CC2=C1C(C=CC(C(CCCCCCCC)=O)=C3)...          383.0   \n",
              "210  F[B-]1(F)N(C2=C(C#N)C(S3)=[N+]1C4=C3C=C(C(C)(C...          524.0   \n",
              "211  O=C(/C=C/C1=CC=C(N(C)CCO)C=C1)C2=CC=C(NC(C3=C(...          431.0   \n",
              "212       CC1(C)C2=C(C=CC(C=O)=C2)C3=CC=C(N4CC4C)C=C31          355.0   \n",
              "213             C12=C(NC=C2)C=CC3=C1N=C(C4=CC=CC=C4)O3          320.0   \n",
              "\n",
              "     Emission/nm   PLQY  absorption_preds  emission_preds  plqy_preds  \n",
              "0          483.0  0.390        372.555122      498.429932    0.527843  \n",
              "1          608.0  0.130        513.559140      616.499623    0.461692  \n",
              "2          581.0  0.458        460.841694      582.467353    0.464523  \n",
              "3          473.0  0.990        370.715131      467.131411    1.015307  \n",
              "4          473.0  0.980        367.660194      504.216827    0.638009  \n",
              "..           ...    ...               ...             ...         ...  \n",
              "209        425.0  0.830        401.025411      448.739527    0.848070  \n",
              "210        543.0  0.700        519.749516      576.572662    0.636806  \n",
              "211        563.0  0.130        427.787741      565.749504    0.135830  \n",
              "212        486.0  0.640        356.662859      521.772333    0.471861  \n",
              "213        427.0  0.720        327.589422      413.747833    0.648874  \n",
              "\n",
              "[214 rows x 7 columns]"
            ]
          },
          "execution_count": 3,
          "metadata": {},
          "output_type": "execute_result"
        }
      ],
      "source": [
        "df_test = pd.read_csv(\"models/plqy_r2_066/fold_0/test_full.csv\")\n",
        "df_test['absorption_preds'] = [x[0] for x in preds]\n",
        "df_test['emission_preds'] = [x[1] for x in preds]\n",
        "df_test['plqy_preds'] = [x[2] for x in preds]\n",
        "df_test"
      ]
    },
    {
      "cell_type": "code",
      "execution_count": 8,
      "metadata": {},
      "outputs": [
        {
          "data": {
            "image/png": "[encoded data removed]",
            "text/plain": [
              "<Figure size 640x480 with 1 Axes>"
            ]
          },
          "metadata": {},
          "output_type": "display_data"
        }
      ],
      "source": [
        "plot_parity(df_test[\"Absorption/nm\"], df_test.absorption_preds, feature='Absorption')"
      ]
    },
    {
      "cell_type": "code",
      "execution_count": 9,
      "metadata": {},
      "outputs": [
        {
          "data": {
            "image/png": "[encoded data removed]",
            "text/plain": [
              "<Figure size 640x480 with 1 Axes>"
            ]
          },
          "metadata": {},
          "output_type": "display_data"
        }
      ],
      "source": [
        "plot_parity(df_test['Emission/nm'], df_test.emission_preds, feature='Emission')"
      ]
    },
    {
      "cell_type": "code",
      "execution_count": 10,
      "metadata": {},
      "outputs": [
        {
          "data": {
            "image/png": "[encoded data removed]",
            "text/plain": [
              "<Figure size 640x480 with 1 Axes>"
            ]
          },
          "metadata": {},
          "output_type": "display_data"
        }
      ],
      "source": [
        "plot_parity(df_test['PLQY'], df_test.plqy_preds, feature='PLQY')"
      ]
    }
  ],
  "metadata": {
    "accelerator": "TPU",
    "colab": {
      "collapsed_sections": [
        "YqFFDpUOK12p",
        "k6f-Ior5K6I9"
      ],
      "machine_shape": "hm",
      "provenance": []
    },
    "gpuClass": "standard",
    "kernelspec": {
      "display_name": "Python 3",
      "name": "python3"
    },
    "language_info": {
      "codemirror_mode": {
        "name": "ipython",
        "version": 3
      },
      "file_extension": ".py",
      "mimetype": "text/x-python",
      "name": "python",
      "nbconvert_exporter": "python",
      "pygments_lexer": "ipython3",
      "version": "3.11.3"
    }
  },
  "nbformat": 4,
  "nbformat_minor": 0
}
